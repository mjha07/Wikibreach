{
 "cells": [
  {
   "cell_type": "code",
   "execution_count": 2,
   "metadata": {},
   "outputs": [],
   "source": [
    "import numpy as np \n",
    "import pandas as pd \n",
    "import matplotlib.pyplot as plt\n",
    "import seaborn as sns\n",
    "color = sns.color_palette()\n",
    "%matplotlib inline\n",
    "\n",
    "import time\n",
    "import mysql.connector\n",
    "#import MySQLdb as my\n",
    "from sqlalchemy import create_engine\n",
    "#from python_mysql_dbconfig import read_db_config"
   ]
  },
  {
   "cell_type": "code",
   "execution_count": 40,
   "metadata": {},
   "outputs": [],
   "source": [
    "df = pd.read_csv(\"Privacy_Rights_Clearinghouse-Data-Breaches-Export.csv\")"
   ]
  },
  {
   "cell_type": "code",
   "execution_count": 41,
   "metadata": {},
   "outputs": [
    {
     "data": {
      "text/html": [
       "<div>\n",
       "<style scoped>\n",
       "    .dataframe tbody tr th:only-of-type {\n",
       "        vertical-align: middle;\n",
       "    }\n",
       "\n",
       "    .dataframe tbody tr th {\n",
       "        vertical-align: top;\n",
       "    }\n",
       "\n",
       "    .dataframe thead th {\n",
       "        text-align: right;\n",
       "    }\n",
       "</style>\n",
       "<table border=\"1\" class=\"dataframe\">\n",
       "  <thead>\n",
       "    <tr style=\"text-align: right;\">\n",
       "      <th></th>\n",
       "      <th>Date Made Public</th>\n",
       "      <th>Company</th>\n",
       "      <th>Type of breach</th>\n",
       "      <th>Type of organization</th>\n",
       "      <th>Total Records</th>\n",
       "      <th>Description of incident</th>\n",
       "      <th>Information Source</th>\n",
       "      <th>Source URL</th>\n",
       "    </tr>\n",
       "  </thead>\n",
       "  <tbody>\n",
       "    <tr>\n",
       "      <th>0</th>\n",
       "      <td>7-Oct-15</td>\n",
       "      <td>LoopPay</td>\n",
       "      <td>HACK</td>\n",
       "      <td>BSO</td>\n",
       "      <td>0</td>\n",
       "      <td>\"Months before its technology became the cente...</td>\n",
       "      <td>Media</td>\n",
       "      <td>https://www.nytimes.com/2015/10/08/technology/...</td>\n",
       "    </tr>\n",
       "    <tr>\n",
       "      <th>1</th>\n",
       "      <td>1-Sep-16</td>\n",
       "      <td>New York State Psychiatric Institute</td>\n",
       "      <td>HACK</td>\n",
       "      <td>GOV</td>\n",
       "      <td>21,880</td>\n",
       "      <td>\"The New York State Office of Mental Health (O...</td>\n",
       "      <td>Media</td>\n",
       "      <td>https://healthitsecurity.com/news/ny-psychiatr...</td>\n",
       "    </tr>\n",
       "    <tr>\n",
       "      <th>2</th>\n",
       "      <td>8-Jan-17</td>\n",
       "      <td>E-Sports Entertainment Association (ESEA)</td>\n",
       "      <td>HACK</td>\n",
       "      <td>BSO</td>\n",
       "      <td>1,503,710</td>\n",
       "      <td>\"E-Sports Entertainment Association (ESEA), on...</td>\n",
       "      <td>Media</td>\n",
       "      <td>http://www.csoonline.com/article/3155397/secur...</td>\n",
       "    </tr>\n",
       "    <tr>\n",
       "      <th>3</th>\n",
       "      <td>10-Jan-17</td>\n",
       "      <td>Legal Aid Society of Orange County (LASOC)</td>\n",
       "      <td>DISC</td>\n",
       "      <td>NGO</td>\n",
       "      <td>0</td>\n",
       "      <td>\"LASOC developed the I-CAN! web application, w...</td>\n",
       "      <td>California Attorney General</td>\n",
       "      <td>NaN</td>\n",
       "    </tr>\n",
       "    <tr>\n",
       "      <th>4</th>\n",
       "      <td>3-Jan-17</td>\n",
       "      <td>MetroPlus Health Plan</td>\n",
       "      <td>DISC</td>\n",
       "      <td>MED</td>\n",
       "      <td>808</td>\n",
       "      <td>As reported by Health and Human Services unaut...</td>\n",
       "      <td>Government Agency</td>\n",
       "      <td>NaN</td>\n",
       "    </tr>\n",
       "  </tbody>\n",
       "</table>\n",
       "</div>"
      ],
      "text/plain": [
       "  Date Made Public                                     Company Type of breach  \\\n",
       "0         7-Oct-15                                     LoopPay           HACK   \n",
       "1         1-Sep-16        New York State Psychiatric Institute           HACK   \n",
       "2         8-Jan-17   E-Sports Entertainment Association (ESEA)           HACK   \n",
       "3        10-Jan-17  Legal Aid Society of Orange County (LASOC)           DISC   \n",
       "4         3-Jan-17                       MetroPlus Health Plan           DISC   \n",
       "\n",
       "  Type of organization Total Records  \\\n",
       "0                  BSO             0   \n",
       "1                  GOV        21,880   \n",
       "2                  BSO     1,503,710   \n",
       "3                  NGO             0   \n",
       "4                  MED           808   \n",
       "\n",
       "                             Description of incident  \\\n",
       "0  \"Months before its technology became the cente...   \n",
       "1  \"The New York State Office of Mental Health (O...   \n",
       "2  \"E-Sports Entertainment Association (ESEA), on...   \n",
       "3  \"LASOC developed the I-CAN! web application, w...   \n",
       "4  As reported by Health and Human Services unaut...   \n",
       "\n",
       "            Information Source  \\\n",
       "0                        Media   \n",
       "1                        Media   \n",
       "2                        Media   \n",
       "3  California Attorney General   \n",
       "4            Government Agency   \n",
       "\n",
       "                                          Source URL  \n",
       "0  https://www.nytimes.com/2015/10/08/technology/...  \n",
       "1  https://healthitsecurity.com/news/ny-psychiatr...  \n",
       "2  http://www.csoonline.com/article/3155397/secur...  \n",
       "3                                                NaN  \n",
       "4                                                NaN  "
      ]
     },
     "execution_count": 41,
     "metadata": {},
     "output_type": "execute_result"
    }
   ],
   "source": [
    "df.head()"
   ]
  },
  {
   "cell_type": "markdown",
   "metadata": {},
   "source": [
    "infomration_public_date, source_url, incident_summary, reported_by will be information source --> incident_report\n",
    "breach_type --> attack\n",
    "victim_type, victim_name --> victim table\n",
    "Location --> Demographics"
   ]
  },
  {
   "cell_type": "code",
   "execution_count": 42,
   "metadata": {},
   "outputs": [],
   "source": [
    "incident_report_df = df[['Date Made Public', 'Source URL', 'Description of incident', 'Information Source']]\n",
    "victim_df = df[['Type of organization', 'Company']]"
   ]
  },
  {
   "cell_type": "code",
   "execution_count": 43,
   "metadata": {},
   "outputs": [],
   "source": [
    "incident_report_df.columns = ['reported_date','source_url', 'incident_summary', 'reported_by']\n",
    "victim_df.columns = ['victim_type', 'victim_name']"
   ]
  },
  {
   "cell_type": "code",
   "execution_count": 16,
   "metadata": {},
   "outputs": [
    {
     "name": "stdout",
     "output_type": "stream",
     "text": [
      "<class 'str'>\n",
      "<class 'str'>\n",
      "<class 'str'>\n"
     ]
    }
   ],
   "source": [
    "for row in incident_report_df:\n",
    "    print (type(incident_report_df[row][1]))"
   ]
  },
  {
   "cell_type": "code",
   "execution_count": 44,
   "metadata": {},
   "outputs": [
    {
     "data": {
      "text/html": [
       "<div>\n",
       "<style scoped>\n",
       "    .dataframe tbody tr th:only-of-type {\n",
       "        vertical-align: middle;\n",
       "    }\n",
       "\n",
       "    .dataframe tbody tr th {\n",
       "        vertical-align: top;\n",
       "    }\n",
       "\n",
       "    .dataframe thead th {\n",
       "        text-align: right;\n",
       "    }\n",
       "</style>\n",
       "<table border=\"1\" class=\"dataframe\">\n",
       "  <thead>\n",
       "    <tr style=\"text-align: right;\">\n",
       "      <th></th>\n",
       "      <th>reported_date</th>\n",
       "      <th>source_url</th>\n",
       "      <th>incident_summary</th>\n",
       "      <th>reported_by</th>\n",
       "    </tr>\n",
       "  </thead>\n",
       "  <tbody>\n",
       "    <tr>\n",
       "      <th>0</th>\n",
       "      <td>7-Oct-15</td>\n",
       "      <td>https://www.nytimes.com/2015/10/08/technology/...</td>\n",
       "      <td>\"Months before its technology became the cente...</td>\n",
       "      <td>Media</td>\n",
       "    </tr>\n",
       "    <tr>\n",
       "      <th>1</th>\n",
       "      <td>1-Sep-16</td>\n",
       "      <td>https://healthitsecurity.com/news/ny-psychiatr...</td>\n",
       "      <td>\"The New York State Office of Mental Health (O...</td>\n",
       "      <td>Media</td>\n",
       "    </tr>\n",
       "    <tr>\n",
       "      <th>2</th>\n",
       "      <td>8-Jan-17</td>\n",
       "      <td>http://www.csoonline.com/article/3155397/secur...</td>\n",
       "      <td>\"E-Sports Entertainment Association (ESEA), on...</td>\n",
       "      <td>Media</td>\n",
       "    </tr>\n",
       "    <tr>\n",
       "      <th>3</th>\n",
       "      <td>10-Jan-17</td>\n",
       "      <td>NaN</td>\n",
       "      <td>\"LASOC developed the I-CAN! web application, w...</td>\n",
       "      <td>California Attorney General</td>\n",
       "    </tr>\n",
       "    <tr>\n",
       "      <th>4</th>\n",
       "      <td>3-Jan-17</td>\n",
       "      <td>NaN</td>\n",
       "      <td>As reported by Health and Human Services unaut...</td>\n",
       "      <td>Government Agency</td>\n",
       "    </tr>\n",
       "  </tbody>\n",
       "</table>\n",
       "</div>"
      ],
      "text/plain": [
       "  reported_date                                         source_url  \\\n",
       "0      7-Oct-15  https://www.nytimes.com/2015/10/08/technology/...   \n",
       "1      1-Sep-16  https://healthitsecurity.com/news/ny-psychiatr...   \n",
       "2      8-Jan-17  http://www.csoonline.com/article/3155397/secur...   \n",
       "3     10-Jan-17                                                NaN   \n",
       "4      3-Jan-17                                                NaN   \n",
       "\n",
       "                                    incident_summary  \\\n",
       "0  \"Months before its technology became the cente...   \n",
       "1  \"The New York State Office of Mental Health (O...   \n",
       "2  \"E-Sports Entertainment Association (ESEA), on...   \n",
       "3  \"LASOC developed the I-CAN! web application, w...   \n",
       "4  As reported by Health and Human Services unaut...   \n",
       "\n",
       "                   reported_by  \n",
       "0                        Media  \n",
       "1                        Media  \n",
       "2                        Media  \n",
       "3  California Attorney General  \n",
       "4            Government Agency  "
      ]
     },
     "execution_count": 44,
     "metadata": {},
     "output_type": "execute_result"
    }
   ],
   "source": [
    "incident_report_df.head()"
   ]
  },
  {
   "cell_type": "code",
   "execution_count": 50,
   "metadata": {},
   "outputs": [
    {
     "name": "stdout",
     "output_type": "stream",
     "text": [
      "<class 'time.struct_time'>\n",
      "<class 'str'>\n",
      "<class 'str'>\n",
      "<class 'str'>\n"
     ]
    }
   ],
   "source": [
    "#Converting string to datetime format\n",
    "\n",
    "for index, row in incident_report_df.iterrows():\n",
    "    datestring = row['reported_date']\n",
    "    row['reported_date'] = time.strptime(datestring,\"%d-%b-%y\")\n",
    "    \n",
    "for row in incident_report_df:\n",
    "    print (type(incident_report_df[row][1]))"
   ]
  },
  {
   "cell_type": "code",
   "execution_count": 54,
   "metadata": {},
   "outputs": [],
   "source": [
    "#Replacing all the null values with Missing Values string\n",
    "incident_report_df = incident_report_df.replace(np.nan, 'Missing Values', regex=True)"
   ]
  },
  {
   "cell_type": "code",
   "execution_count": 17,
   "metadata": {},
   "outputs": [],
   "source": [
    "#for index, row in incident_report_df.iterrows():\n",
    "    #print (row['source_url'])"
   ]
  },
  {
   "cell_type": "code",
   "execution_count": 55,
   "metadata": {},
   "outputs": [],
   "source": [
    "#Ingesting incident_report_df to incident report table\n",
    "engine = mysql.connector.connect(user='root', password='xx', database='wikibreach')\n",
    "cursor = engine.cursor()\n",
    "\n",
    "for index, rows in incident_report_df.iterrows():\n",
    "    insert_stmt = \"INSERT INTO incident_report (reported_date, source_url, incident_summary, reported_by) VALUES (%s, %s, %s, %s)\"\n",
    "    data = (rows.reported_date, rows.source_url, rows.incident_summary, rows.reported_by)\n",
    "    cursor.execute(insert_stmt, data)\n",
    "    \n",
    "    engine.commit()\n",
    "\n",
    "cursor.close()\n",
    "engine.close()\n"
   ]
  },
  {
   "cell_type": "code",
   "execution_count": 57,
   "metadata": {},
   "outputs": [
    {
     "data": {
      "text/html": [
       "<div>\n",
       "<style scoped>\n",
       "    .dataframe tbody tr th:only-of-type {\n",
       "        vertical-align: middle;\n",
       "    }\n",
       "\n",
       "    .dataframe tbody tr th {\n",
       "        vertical-align: top;\n",
       "    }\n",
       "\n",
       "    .dataframe thead th {\n",
       "        text-align: right;\n",
       "    }\n",
       "</style>\n",
       "<table border=\"1\" class=\"dataframe\">\n",
       "  <thead>\n",
       "    <tr style=\"text-align: right;\">\n",
       "      <th></th>\n",
       "      <th>victim_type</th>\n",
       "      <th>victim_name</th>\n",
       "    </tr>\n",
       "  </thead>\n",
       "  <tbody>\n",
       "    <tr>\n",
       "      <th>0</th>\n",
       "      <td>BSO</td>\n",
       "      <td>LoopPay</td>\n",
       "    </tr>\n",
       "    <tr>\n",
       "      <th>1</th>\n",
       "      <td>GOV</td>\n",
       "      <td>New York State Psychiatric Institute</td>\n",
       "    </tr>\n",
       "    <tr>\n",
       "      <th>2</th>\n",
       "      <td>BSO</td>\n",
       "      <td>E-Sports Entertainment Association (ESEA)</td>\n",
       "    </tr>\n",
       "    <tr>\n",
       "      <th>3</th>\n",
       "      <td>NGO</td>\n",
       "      <td>Legal Aid Society of Orange County (LASOC)</td>\n",
       "    </tr>\n",
       "    <tr>\n",
       "      <th>4</th>\n",
       "      <td>MED</td>\n",
       "      <td>MetroPlus Health Plan</td>\n",
       "    </tr>\n",
       "  </tbody>\n",
       "</table>\n",
       "</div>"
      ],
      "text/plain": [
       "  victim_type                                 victim_name\n",
       "0         BSO                                     LoopPay\n",
       "1         GOV        New York State Psychiatric Institute\n",
       "2         BSO   E-Sports Entertainment Association (ESEA)\n",
       "3         NGO  Legal Aid Society of Orange County (LASOC)\n",
       "4         MED                       MetroPlus Health Plan"
      ]
     },
     "execution_count": 57,
     "metadata": {},
     "output_type": "execute_result"
    }
   ],
   "source": [
    "victim_df.head()"
   ]
  },
  {
   "cell_type": "code",
   "execution_count": 59,
   "metadata": {},
   "outputs": [],
   "source": [
    "#Ingesting victim_df to victim table\n",
    "engine = mysql.connector.connect(user='root', password='xx', database='wikibreach')\n",
    "cursor = engine.cursor()\n",
    "\n",
    "for index, rows in victim_df.iterrows():\n",
    "    insert_stmt = \"INSERT INTO victim (victim_type, victim_name) VALUES (%s, %s)\"\n",
    "    data = (rows.victim_type, rows.victim_name)\n",
    "    cursor.execute(insert_stmt, data)\n",
    "    \n",
    "    engine.commit()\n",
    "\n",
    "cursor.close()\n",
    "engine.close()"
   ]
  },
  {
   "cell_type": "code",
   "execution_count": null,
   "metadata": {},
   "outputs": [],
   "source": []
  }
 ],
 "metadata": {
  "kernelspec": {
   "display_name": "Python 3",
   "language": "python",
   "name": "python3"
  },
  "language_info": {
   "codemirror_mode": {
    "name": "ipython",
    "version": 3
   },
   "file_extension": ".py",
   "mimetype": "text/x-python",
   "name": "python",
   "nbconvert_exporter": "python",
   "pygments_lexer": "ipython3",
   "version": "3.6.4"
  }
 },
 "nbformat": 4,
 "nbformat_minor": 2
}
